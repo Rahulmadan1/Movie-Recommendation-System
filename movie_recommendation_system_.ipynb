{
  "nbformat": 4,
  "nbformat_minor": 0,
  "metadata": {
    "colab": {
      "name": "movie-recommendation system .ipynb",
      "provenance": []
    },
    "kernelspec": {
      "name": "python3",
      "display_name": "Python 3"
    },
    "language_info": {
      "name": "python"
    }
  },
  "cells": [
    {
      "cell_type": "code",
      "execution_count": null,
      "metadata": {
        "id": "1kHwSwv4CmXo"
      },
      "outputs": [],
      "source": [
        "import pandas as pd ##importing necessary libraries\n",
        "import numpy as np\n",
        "from scipy.sparse import csr_matrix\n",
        "from sklearn.neighbors import NearestNeighbors\n",
        "import matplotlib.pyplot as plt\n",
        "import seaborn as sns"
      ]
    },
    {
      "cell_type": "code",
      "source": [
        "movies = pd.read_csv(\"../input/movie-lens-small-latest-dataset/movies.csv\") #importing dataset\n",
        "ratings = pd.read_csv(\"../input/movie-lens-small-latest-dataset/ratings.csv\")"
      ],
      "metadata": {
        "id": "OYtfxmwyCxFq"
      },
      "execution_count": null,
      "outputs": []
    },
    {
      "cell_type": "code",
      "source": [
        "movies.head() #viewing column tags/attributes"
      ],
      "metadata": {
        "id": "7QeJuEJ4CxzD"
      },
      "execution_count": null,
      "outputs": []
    },
    {
      "cell_type": "code",
      "source": [
        "ratings.head() #viewing column tags/attributes"
      ],
      "metadata": {
        "id": "bfiv6RArCx50"
      },
      "execution_count": null,
      "outputs": []
    },
    {
      "cell_type": "code",
      "source": [
        "final_dataset = ratings.pivot(index='movieId',columns='userId',values='rating')  #filtering necessary columns\n",
        "final_dataset.head()"
      ],
      "metadata": {
        "id": "atZiomH8CyA1"
      },
      "execution_count": null,
      "outputs": []
    },
    {
      "cell_type": "code",
      "source": [
        "final_dataset.fillna(0,inplace=True) #removing blank values\n",
        "final_dataset.head()"
      ],
      "metadata": {
        "id": "PdA8qjA7DAjW"
      },
      "execution_count": null,
      "outputs": []
    },
    {
      "cell_type": "code",
      "source": [
        "no_user_voted = ratings.groupby('movieId')['rating'].agg('count')  #grouping data for removing sparsity of matrix\n",
        "no_movies_voted = ratings.groupby('userId')['rating'].agg('count')"
      ],
      "metadata": {
        "id": "3O2LkNNnDD1W"
      },
      "execution_count": null,
      "outputs": []
    },
    {
      "cell_type": "code",
      "source": [
        "f,ax = plt.subplots(1,1,figsize=(16,4))   #visualization of data\n",
        "# ratings['rating'].plot(kind='hist')\n",
        "plt.scatter(no_user_voted.index,no_user_voted,color='mediumseagreen')\n",
        "plt.axhline(y=10,color='r')\n",
        "plt.xlabel('MovieId')\n",
        "plt.ylabel('No. of users voted')\n",
        "plt.show()"
      ],
      "metadata": {
        "id": "uHSi0q-JDESx"
      },
      "execution_count": null,
      "outputs": []
    },
    {
      "cell_type": "code",
      "source": [
        "final_dataset = final_dataset.loc[no_user_voted[no_user_voted > 10].index,:] #setting threshold for sparsity removal in user-end"
      ],
      "metadata": {
        "id": "6PcQijs9DJBL"
      },
      "execution_count": null,
      "outputs": []
    },
    {
      "cell_type": "code",
      "source": [
        "f,ax = plt.subplots(1,1,figsize=(16,4))\n",
        "plt.scatter(no_movies_voted.index,no_movies_voted,color='mediumseagreen')\n",
        "plt.axhline(y=50,color='r')\n",
        "plt.xlabel('UserId')\n",
        "plt.ylabel('No. of votes by user')\n",
        "plt.show()"
      ],
      "metadata": {
        "id": "XJKlIKeeDKMg"
      },
      "execution_count": null,
      "outputs": []
    },
    {
      "cell_type": "code",
      "source": [
        "final_dataset=final_dataset.loc[:,no_movies_voted[no_movies_voted > 50].index] #setting threshold for sparsity removal in movie-end\n",
        "final_dataset"
      ],
      "metadata": {
        "id": "UpfUScg1DQGL"
      },
      "execution_count": null,
      "outputs": []
    },
    {
      "cell_type": "code",
      "source": [
        "sample = np.array([[0,0,3,0,0],[4,0,0,0,2],[0,0,0,0,1]])\n",
        "sparsity = 1.0 - ( np.count_nonzero(sample) / float(sample.size) )\n",
        "print(sparsity)"
      ],
      "metadata": {
        "id": "3QtL-a8VDTiD"
      },
      "execution_count": null,
      "outputs": []
    },
    {
      "cell_type": "code",
      "source": [
        "csr_sample = csr_matrix(sample)\n",
        "print(csr_sample)"
      ],
      "metadata": {
        "id": "PWw8oRGsDTqg"
      },
      "execution_count": null,
      "outputs": []
    },
    {
      "cell_type": "code",
      "source": [
        "csr_data = csr_matrix(final_dataset.values)\n",
        "final_dataset.reset_index(inplace=True)"
      ],
      "metadata": {
        "id": "z5143oq9DTwj"
      },
      "execution_count": null,
      "outputs": []
    },
    {
      "cell_type": "code",
      "source": [
        "knn = NearestNeighbors(metric='cosine', algorithm='brute', n_neighbors=20, n_jobs=-1) #applying KNN algortihm\n",
        "knn.fit(csr_data)"
      ],
      "metadata": {
        "id": "VXm0b11xDT1J"
      },
      "execution_count": null,
      "outputs": []
    },
    {
      "cell_type": "code",
      "source": [
        "def get_movie_recommendation(movie_name):    #final call\n",
        "    n_movies_to_reccomend = 10\n",
        "    movie_list = movies[movies['title'].str.contains(movie_name)]  \n",
        "    if len(movie_list):        \n",
        "        movie_idx= movie_list.iloc[0]['movieId']\n",
        "        movie_idx = final_dataset[final_dataset['movieId'] == movie_idx].index[0]\n",
        "        distances , indices = knn.kneighbors(csr_data[movie_idx],n_neighbors=n_movies_to_reccomend+1)    \n",
        "        rec_movie_indices = sorted(list(zip(indices.squeeze().tolist(),distances.squeeze().tolist())),key=lambda x: x[1])[:0:-1]\n",
        "        recommend_frame = []\n",
        "        for val in rec_movie_indices:\n",
        "            movie_idx = final_dataset.iloc[val[0]]['movieId']\n",
        "            idx = movies[movies['movieId'] == movie_idx].index\n",
        "            recommend_frame.append({'Title':movies.iloc[idx]['title'].values[0],'Distance':val[1]})\n",
        "        df = pd.DataFrame(recommend_frame,index=range(1,n_movies_to_reccomend+1))\n",
        "        return df\n",
        "    else:\n",
        "        return \"No movies found. Please check your input\""
      ],
      "metadata": {
        "id": "edvkxjndDT7L"
      },
      "execution_count": null,
      "outputs": []
    },
    {
      "cell_type": "code",
      "source": [
        "get_movie_recommendation('Memento') #check-code"
      ],
      "metadata": {
        "id": "Y7ILoTjfDKQD"
      },
      "execution_count": null,
      "outputs": []
    }
  ]
}